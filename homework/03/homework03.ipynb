{
 "cells": [
  {
   "cell_type": "markdown",
   "metadata": {},
   "source": [
    "# Part 1: Analysis of the tiny white dwarf ZTF J1901+1458"
   ]
  },
  {
   "cell_type": "markdown",
   "metadata": {},
   "source": [
    "When the Sun will eventually run out of nuclear fuel in its core, in about 5 billion years, its core will contract and heat up, becoming a newly born carbon/oxygen white dwarf, while the remainder of the star will get blown back into interstellar space in a spectacular planetary nebula. More than 97% of all stars, the ones with mass less than about eight times that of the Sun, are bound to face the same destiny and become white dwarfs at the end of their lifes."
   ]
  },
  {
   "cell_type": "markdown",
   "metadata": {},
   "source": [
    "<img src='figures/planetary-nebulae-1000px.jpeg' alt=\"\" width=\"800\" height=\"695\">\n",
    "&nbsp; &nbsp; &nbsp; &nbsp; &nbsp; &nbsp; &nbsp; &nbsp; &nbsp; &nbsp; &nbsp; &nbsp; planetary nebulae"
   ]
  },
  {
   "cell_type": "markdown",
   "metadata": {},
   "source": [
    "So we may say that white dwarfs are the most common stellar corpses. And indeed they are very common in the sky (the closest white dwarf known, Sirius B, is only 8.6 light years from the Sun) and well studied by astronomers. However, there are still many open questions about white dwarfs, their evolution and their peculiarities. \n",
    "\n",
    "One example is magnetism in white dwarfs: about 20% of white dwarfs are threaded by a magnetic field on their surface that can be as low as a few thousand Gauss or as high as almost a billion Gauss. We still don't know why some white dwarfs are magnetic and why some aren't, and what is the origin of such diversity of field strengths. Several theories tie the magnetism either with the birth or the evolution of the white dwarf, and different mechanisms might be at play for different white dwarfs."
   ]
  },
  {
   "cell_type": "markdown",
   "metadata": {},
   "source": [
    "<img src='figures/MWD.jpg' alt=\"\" width=\"800\" height=\"695\">\n",
    "&nbsp; &nbsp; &nbsp; &nbsp; &nbsp; &nbsp; &nbsp; &nbsp; &nbsp; &nbsp; &nbsp; &nbsp; magnetic white dwarf"
   ]
  },
  {
   "cell_type": "markdown",
   "metadata": {},
   "source": [
    "One possible explanation is that at least some magnetic white dwarfs are born in a merger. \n",
    "\n",
    "About half of all the stars we know of are part of a system with two or more stars in them; singlet systems like our own are extremely common, but binaries, trinaries, and other multi-star configurations are quite common as well. Many binary systems are born with stars of similar masses, and hence they have similar fates. If one star in a binary system becomes a white dwarf, the other one likely won’t be far behind. The brightest star in our night sky, Sirius, has a white dwarf and a star more massive than the Sun orbiting one another; come back in about a billion years, and you’re almost certain to find two white dwarfs orbiting one another instead.\n"
   ]
  },
  {
   "cell_type": "markdown",
   "metadata": {},
   "source": [
    "<img src='figures/sirius.jpg' alt=\"\" width=\"800\" height=\"695\">\n",
    "&nbsp; &nbsp; &nbsp; &nbsp; &nbsp; &nbsp; &nbsp; &nbsp; &nbsp; &nbsp; &nbsp; &nbsp; Sirius A (a main sequence star, left) and B (a white dwarf, right)"
   ]
  },
  {
   "cell_type": "markdown",
   "metadata": {},
   "source": [
    "Just as binary black holes and neutron stars are known to inspiral and merge, so, too, will white dwarfs in binary systems. When they do, if their combined mass exceeds the Chandrasekhar limit, you’ll get a stellar cataclysm: a type Ia supernova.\n",
    "\n",
    "But if their combined mass remains below that critical threshold instead, they’ll simply lead to the formation of another white dwarf. This new white dwarf should have some particular properties that set it apart from white dwarfs that form from single stars, so even if we only find a white dwarf post-merger, we should still be able to identify its origin. In particular, we expect:\n",
    "- a rapid rotation, from the conservation of angular momentum of the binary,\n",
    "- a higher mass, on average, than single-parent white dwarfs\n",
    "- and a strong magnetic field at its surface, becuase of the strong dynamo that e expect during a merger.\n",
    "\n",
    "The best way to find rapidly rotating and highly magnetized white dwarf is look for them with ZTF. Indeed, the magnetic field on the surface of the white dwarf creates some inhomogeneities in its emission, like dark or bright spots, as well as temperature gradients, and therefore as the star rotates, its luminosity varies periodically. ZTF, thanks to its huge field of view and high cadence, can accumulate hundreds of observations of the same star very quickly, allowing to look for periodic variations in luminosity."
   ]
  },
  {
   "cell_type": "markdown",
   "metadata": {},
   "source": [
    "<img src='figures/ObservatoryAerialCover.jpg'/>"
   ]
  },
  {
   "cell_type": "markdown",
   "metadata": {},
   "source": [
    "Therefore, ZTF is the perfect tool to look for candidate merger remnants, and indeed we are finding many interesting magnetic and rapidly rotating white dwarfs.\n",
    "\n",
    "One of the first and most interesting white dwarfs that we found is ZTF J1901+1458. The white dwarf immediately piqued our interest because it is one of the bluest object in the Gaia catalog, indicating a high temperature and high mass, and because it showed a photometric variation of about 3% every 6.94 minutes, one of the shortest periods ever detected for an isolated white dwarf."
   ]
  },
  {
   "cell_type": "markdown",
   "metadata": {},
   "source": [
    "Here we can see the Gaia HR diagram of the white dwarfs within 100 pc that are also in the SDSS catalog. The x-axis depicts the difference between the Gaia BP and RP bands, and the y-axis the absolute magnitude in the Gaia G filter. Solid lines show theoretical cooling tracks for white dwarfs with masses between 0.6 M☉ (top) and 1.28 M☉ (bottom), equally spaced in mass; the atmosphere is assumed to be hydrogen-dominated and the interior composition to be carbon–oxygen for M < 1.1 M☉ and oxygen–neon for M > 1.1 M☉. Coloured markers indicate white dwarfs for which a magnetic field was measured. ZTF J1901+1458 is shown as a red star, and its location in the colour–magnitude diagram reveals its high mass. \n",
    "<img src='figures/Figure1_183.jpg' alt=\"\" width=\"800\" height=\"695\">"
   ]
  },
  {
   "cell_type": "markdown",
   "metadata": {},
   "source": [
    "We therefore decided to follow up the ZTF observations with a spectrum, that we obtained using the LRIS instrument on Keck (https://www2.keck.hawaii.edu/inst/lris/lrishome.html), and with ultraviolet photometry, obtained with the UVOT instrument on Swift (https://swift.gsfc.nasa.gov/about_swift/uvot_desc.html).\n",
    "\n",
    "From the spectrum, we were able to infer that the white dwarf's surface is threaded by one of the highest magnetic fields ever detected on a white dwarf, about 800 million Gauss. The ultraviolet photometry, together with the already available PanSTARRS optical photometry and the very precise measurment of the star's distance from Gaia, allowed us to measure the temperature and radius of the white dwarf (for more details, you can read the discovery paper here https://arxiv.org/pdf/2107.08458.pdf).\n",
    "\n",
    "The radius measurment, of about 2,100 km, characterizes the white dwarf as the smallest ever observed. \"Normal\" white dwarfs have radii comparable to that of the Earth, while ZTF J1901+1458 is almost as small as our Moon."
   ]
  },
  {
   "cell_type": "markdown",
   "metadata": {},
   "source": [
    "<img src='figures/picture.jpg'/>"
   ]
  },
  {
   "cell_type": "markdown",
   "metadata": {},
   "source": [
    "Since the radius of a white dwarf is inversely proportional to its mass, being the smallest white dwarf known makes ZTF 1901+1458 also the most massive, with a mass between 1.327 and 1.365 solar masses.\n",
    "\n",
    "If we were to compare this white dwarf to other objects in our Solar System, it would be smaller than even Mercury, and in between the sizes of Jupiter’s moons Callisto and Io: the 3rd and 4th largest moons in the Solar System. (Earth’s moon is 5th)\n",
    "\n",
    "<img src='figures/moons.jpg' alt=\"\" width=\"800\" height=\"695\">"
   ]
  },
  {
   "cell_type": "markdown",
   "metadata": {},
   "source": [
    "So in summary, ZTF J1901+1458 is a white dwarf that is extreme in almost every way: it rotates on its axis once every 6.94 minutes, one of the shortest periods known for an isolated white dwarf, its surface is threaded by a magnetic field of about 800 million Gauss, one of the highest ever observed on a white dwarf, and it is the smallest white dwarf known, with a radius of about 2,100 km, just slightly larger than that of the Moon. These extreme properties characterize the white dwarf as a high-confidence merger remnant.\n",
    "\n",
    "\n",
    "We noticed that ZTF J1901+1458 was special because we recovered its remarkably short period with ZTF. In this notebook, we present a simple analysis of the ZTF data for the white dwarf ZTF J1901+1458 to retrieve the rotation period."
   ]
  },
  {
   "cell_type": "markdown",
   "metadata": {},
   "source": [
    "## Finding the period"
   ]
  },
  {
   "cell_type": "markdown",
   "metadata": {},
   "source": [
    "First, we import the usual python libraries, numpy and the plotting library matplotlib."
   ]
  },
  {
   "cell_type": "code",
   "execution_count": 1,
   "metadata": {},
   "outputs": [],
   "source": [
    "import numpy as np\n",
    "import matplotlib.pyplot as plt"
   ]
  },
  {
   "cell_type": "markdown",
   "metadata": {},
   "source": [
    "### Load the ZTF data"
   ]
  },
  {
   "cell_type": "markdown",
   "metadata": {},
   "source": [
    "We here load the data from the files. The two files contain the ZTF data in two filters, ZTF-g and ZTF-r, and in the three columns we have the time of the observation, the magnitude and the error in the magnitude."
   ]
  },
  {
   "cell_type": "code",
   "execution_count": 2,
   "metadata": {},
   "outputs": [],
   "source": [
    "timer,magr,errmagr=np.loadtxt(\"data/285.3869388_14.9690803_r_10539532030398\",unpack=True)\n",
    "timeg,magg,errmagg=np.loadtxt(\"data/285.3869388_14.9690803_g_10539531058645\",unpack=True)"
   ]
  },
  {
   "cell_type": "markdown",
   "metadata": {},
   "source": [
    "Here we make sure that the data is sorted correctly in time"
   ]
  },
  {
   "cell_type": "code",
   "execution_count": 3,
   "metadata": {},
   "outputs": [],
   "source": [
    "magr=magr[np.argsort(timer)]\n",
    "errmagr=errmagr[np.argsort(timer)]\n",
    "timer=timer[np.argsort(timer)]\n",
    "magg=magg[np.argsort(timeg)]\n",
    "errmagg=errmagg[np.argsort(timeg)]\n",
    "timeg=timeg[np.argsort(timeg)]"
   ]
  },
  {
   "cell_type": "markdown",
   "metadata": {},
   "source": [
    "Let's take a look at the data"
   ]
  },
  {
   "cell_type": "code",
   "execution_count": 4,
   "metadata": {},
   "outputs": [
    {
     "data": {
      "image/png": "[encoded data removed]",
      "text/plain": [
       "<Figure size 1080x288 with 1 Axes>"
      ]
     },
     "metadata": {
      "needs_background": "light"
     },
     "output_type": "display_data"
    },
    {
     "data": {
      "image/png": "[encoded data removed]",
      "text/plain": [
       "<Figure size 1080x288 with 1 Axes>"
      ]
     },
     "metadata": {
      "needs_background": "light"
     },
     "output_type": "display_data"
    }
   ],
   "source": [
    "plt.figure(figsize=(15,4))\n",
    "plt.errorbar(timeg,magg,errmagg,fmt='.g',alpha=0.5)\n",
    "plt.gca().invert_yaxis()\n",
    "plt.ylabel(r'Apparent Magnitude (ZTF-$g$)')\n",
    "\n",
    "\n",
    "plt.show()\n",
    "plt.figure(figsize=(15,4))\n",
    "plt.errorbar(timer,magr,errmagr,fmt='.r',alpha=0.5)\n",
    "plt.gca().invert_yaxis()\n",
    "plt.ylabel(r'Apparent Magnitude (ZTF-$r$)')\n",
    "plt.xlabel(r'Date JD')\n",
    "plt.show()"
   ]
  },
  {
   "cell_type": "markdown",
   "metadata": {},
   "source": [
    "We can already see a few things:\n",
    "- the data is taken in uneven intervals of time\n",
    "- the average magnitude is brighter in g by half a magnitude: the white dwarf is very blue because it is very hot and massive\n",
    "- there is more data in r: the high cadence observations (you can see them as concentrations of points) are usually performed in the r filter\n",
    "- the amplitude of vatiation is a few percent, and it is slightly higher in the g filter"
   ]
  },
  {
   "cell_type": "markdown",
   "metadata": {},
   "source": [
    "### Looking for the period using the Lomb-Scargle periodogram"
   ]
  },
  {
   "cell_type": "markdown",
   "metadata": {},
   "source": [
    "Lomb-Scargle is an algorithm used to detect a periodicity in unevenly sampled time-series. It is particularly effective to search for periodicity if we expect the lightcurve to be somewhat sinusoidal, and most magnetic white dwarfs present sinusoidal lightcurves.\n",
    "\n",
    "You can learn more about the Lomb Scargle periodogram here: https://iopscience.iop.org/article/10.3847/1538-4365/aab766"
   ]
  },
  {
   "cell_type": "code",
   "execution_count": 5,
   "metadata": {},
   "outputs": [],
   "source": [
    "from gatspy.periodic import LombScargle, LombScargleFast"
   ]
  },
  {
   "cell_type": "markdown",
   "metadata": {},
   "source": [
    "From the gatspy library, we import both the LombScargle and the LombScargleFast routine. We will use the LombScargleFast because it is faster even if it looses a bit in accuracy. You can try the normal one as well if you like.\n",
    "\n",
    "Let's start with the data in g. LombScargle needs to be initialized and needs a period range (in days).\n",
    "The maximum period that we can detect is about half the baseline (the total observation period), while it is very hard to detect periods below 2 minutes in ZTF data."
   ]
  },
  {
   "cell_type": "code",
   "execution_count": null,
   "metadata": {},
   "outputs": [],
   "source": [
    "# YOUR CODE HERE"
   ]
  },
  {
   "cell_type": "markdown",
   "metadata": {},
   "source": [
    "What is the best period?\n",
    "\n",
    "Let's take a look at the periodogram, which shows the significance of each period. In red, we plot the best period. \n",
    "\n",
    "We also print a value (the score of the best period divided by the standard deviation in the scores) that allows us to compare the significance of this best period with others that we get later."
   ]
  },
  {
   "cell_type": "code",
   "execution_count": null,
   "metadata": {},
   "outputs": [],
   "source": [
    "periods = np.linspace(0.002, 0.01, 100000)\n",
    "\n",
    "import warnings\n",
    "with warnings.catch_warnings():\n",
    "    warnings.simplefilter(\"ignore\")\n",
    "    scores = modelg.score(periods)\n",
    "\n",
    "# Plot the results\n",
    "fig, ax = plt.subplots(figsize=(12, 4))\n",
    "fig.subplots_adjust(bottom=0.2)\n",
    "ax.plot(periods, scores)\n",
    "ax.plot([period,period],[0,modelg.score(period)],'r')\n",
    "ax.set(xlabel='period (days)', ylabel='Lomb Scargle Power',\n",
    "       xlim=(0.002, 0.01),ylim=(0,0.6))\n",
    "#plt.savefig(\"lc1.png\",bbox_inches='tight')\n",
    "\n",
    "print(modelg.score(period)/np.std(scores))"
   ]
  },
  {
   "cell_type": "markdown",
   "metadata": {},
   "source": [
    "Let's redo the search, this time in the r data"
   ]
  },
  {
   "cell_type": "code",
   "execution_count": 1,
   "metadata": {},
   "outputs": [],
   "source": [
    "# YOUR CODE HERE"
   ]
  },
  {
   "cell_type": "code",
   "execution_count": null,
   "metadata": {},
   "outputs": [],
   "source": [
    "periods = np.linspace(0.002, 0.01, 100000)\n",
    "\n",
    "import warnings\n",
    "with warnings.catch_warnings():\n",
    "    warnings.simplefilter(\"ignore\")\n",
    "    scores = modelr.score(periods)\n",
    "\n",
    "# Plot the results\n",
    "fig, ax = plt.subplots(figsize=(12, 4))\n",
    "fig.subplots_adjust(bottom=0.2)\n",
    "ax.plot(periods, scores)\n",
    "ax.plot([modelr.best_period,modelr.best_period],[0,modelr.score(modelr.best_period)],'r')\n",
    "ax.set(xlabel='period (days)', ylabel='Lomb Scargle Power',\n",
    "       xlim=(0.002, 0.01),ylim=(0,0.6))\n",
    "#plt.savefig(\"lc1.png\",bbox_inches='tight')\n",
    "\n",
    "print(modelr.score(modelr.best_period)/np.std(scores))"
   ]
  },
  {
   "cell_type": "markdown",
   "metadata": {},
   "source": [
    "Do you find the same period? How about its significance?"
   ]
  },
  {
   "cell_type": "markdown",
   "metadata": {},
   "source": [
    "### Phase-folded lightcurve"
   ]
  },
  {
   "cell_type": "markdown",
   "metadata": {},
   "source": [
    "Now that we have a period, we can look at the phase-folded lightcurve. Let's use the period obtained with g, and define the phase starting with zero at the first observation in g"
   ]
  },
  {
   "cell_type": "code",
   "execution_count": 10,
   "metadata": {},
   "outputs": [],
   "source": [
    "phaseg=((timeg-timeg[0])/(modelg.best_period)) %1\n",
    "phaser=((timer-timeg[0])/(modelg.best_period)) %1"
   ]
  },
  {
   "cell_type": "markdown",
   "metadata": {},
   "source": [
    "Plot 2 times the period, so you can clearly see the lightcurve"
   ]
  },
  {
   "cell_type": "code",
   "execution_count": 4,
   "metadata": {},
   "outputs": [],
   "source": [
    "# YOUR CODE HERE"
   ]
  },
  {
   "cell_type": "markdown",
   "metadata": {},
   "source": [
    "In order to get a nicer looking lightcurve, you can divide the phase in bins, and average over each bin"
   ]
  },
  {
   "cell_type": "code",
   "execution_count": 3,
   "metadata": {},
   "outputs": [],
   "source": [
    "# YOUR CODE HERE"
   ]
  },
  {
   "cell_type": "markdown",
   "metadata": {},
   "source": [
    "We can see from the phase-folded lightcurves that not only the amplitude of the variation is different, but there is also a phase lag between the two filters"
   ]
  },
  {
   "cell_type": "markdown",
   "metadata": {},
   "source": [
    "### Estimating the error on the period"
   ]
  },
  {
   "cell_type": "markdown",
   "metadata": {},
   "source": [
    "In order to estimate the error on the period, we can use a technique called jackknife resampling (https://en.wikipedia.org/wiki/Jackknife_resampling), in which we remove a different datapoint from the sample and rerun Lomb-Scargle each time."
   ]
  },
  {
   "cell_type": "code",
   "execution_count": 13,
   "metadata": {},
   "outputs": [],
   "source": [
    "def gjk():\n",
    "    periods=[]\n",
    "    ind=np.arange(len(timeg))\n",
    "    for i in range(len(timeg)):\n",
    "        print(i)\n",
    "        ok= ind != i\n",
    "        tnew=timeg[ok]\n",
    "        mnew=magg[ok]\n",
    "        enew=errmagg[ok]\n",
    "        modelg.fit(tnew,mnew,enew)\n",
    "        periods.append(modelg.best_period)\n",
    "    return periods"
   ]
  },
  {
   "cell_type": "markdown",
   "metadata": {},
   "source": [
    "This process takes a long time to run, so I commented out the code that runs the gjk() routine. You can try run it if you like, or you can just load the resulting txt"
   ]
  },
  {
   "cell_type": "code",
   "execution_count": 14,
   "metadata": {},
   "outputs": [],
   "source": [
    "#periodsJK=gjk()\n",
    "#np.savetxt('data/gjk.txt',periodsJK)"
   ]
  },
  {
   "cell_type": "code",
   "execution_count": 15,
   "metadata": {},
   "outputs": [],
   "source": [
    "periodsJK=np.loadtxt('data/gjk.txt')"
   ]
  },
  {
   "cell_type": "markdown",
   "metadata": {},
   "source": [
    "We now have all the periods obtained by jackknife resampling and we can get a sense of the uncertainty from the standard deviation of the sample"
   ]
  },
  {
   "cell_type": "code",
   "execution_count": null,
   "metadata": {},
   "outputs": [],
   "source": [
    "n, bins, patches = plt.hist((periodsJK-period)*60*24, 25, density=True, facecolor='g', alpha=0.75)\n",
    "plt.yscale('log')"
   ]
  },
  {
   "cell_type": "code",
   "execution_count": 17,
   "metadata": {},
   "outputs": [
    {
     "data": {
      "text/plain": [
       "(6.937383285404207, 2.597641235149713e-07)"
      ]
     },
     "execution_count": 17,
     "metadata": {},
     "output_type": "execute_result"
    }
   ],
   "source": [
    "np.mean(periodsJK)*60*24,np.std(periodsJK)*60*24"
   ]
  },
  {
   "cell_type": "markdown",
   "metadata": {},
   "source": [
    "# Part 2: Introduction to SCoPe"
   ]
  },
  {
   "cell_type": "markdown",
   "metadata": {},
   "source": [
    "In https://github.com/mcoughlin/ztf_summer_school_2021/tree/main/scope/introduction.ipynb, we introduce the ZTF Variable Source catalog and its contents. Please familiarize yourself with this, as we will be using it in the next few days."
   ]
  },
  {
   "cell_type": "code",
   "execution_count": null,
   "metadata": {},
   "outputs": [],
   "source": []
  }
 ],
 "metadata": {
  "kernelspec": {
   "display_name": "Python 3 (ipykernel)",
   "language": "python",
   "name": "python3"
  },
  "language_info": {
   "codemirror_mode": {
    "name": "ipython",
    "version": 3
   },
   "file_extension": ".py",
   "mimetype": "text/x-python",
   "name": "python",
   "nbconvert_exporter": "python",
   "pygments_lexer": "ipython3",
   "version": "3.8.10"
  }
 },
 "nbformat": 4,
 "nbformat_minor": 4
}
